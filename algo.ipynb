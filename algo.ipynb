{
  "nbformat": 4,
  "nbformat_minor": 0,
  "metadata": {
    "colab": {
      "provenance": [],
      "authorship_tag": "ABX9TyMSzi88SDXaXeUOnGcJbML+",
      "include_colab_link": true
    },
    "kernelspec": {
      "name": "python3",
      "display_name": "Python 3"
    },
    "language_info": {
      "name": "python"
    }
  },
  "cells": [
    {
      "cell_type": "markdown",
      "metadata": {
        "id": "view-in-github",
        "colab_type": "text"
      },
      "source": [
        "<a href=\"https://colab.research.google.com/github/nicglaus/prello/blob/Development/algo.ipynb\" target=\"_parent\"><img src=\"https://colab.research.google.com/assets/colab-badge.svg\" alt=\"Open In Colab\"/></a>"
      ]
    },
    {
      "cell_type": "code",
      "execution_count": 6,
      "metadata": {
        "id": "Tg_6iWOMQDAE"
      },
      "outputs": [],
      "source": [
        "from google.colab import auth\n",
        "import pandas as pd\n",
        "auth.authenticate_user()"
      ]
    },
    {
      "cell_type": "code",
      "source": [
        "# geo data - link departments & municipalities\n",
        "\n",
        "\n",
        "\n",
        "# Real Estate Sales\n",
        "query_sales = \"SELECT municipality_code, Price_increase FROM `prello-cna.dbt_nicglaus.clean_sales_price_increase`\"\n",
        "data_sales = pd.read_gbq(query_sales, project_id=\"prello-cna\")\n",
        "\n",
        "# PCT of vacant homes\n",
        "query_vacant = \"SELECT municipality_code, normalized_number FROM `prello-cna.dbt_nicglaus.clean_vacant_house_2018`\"\n",
        "data_vacant = pd.read_gbq(query_vacant, project_id=\"prello-cna\")\n",
        "\n",
        "# rent levell and housing stress index\n",
        "query_rent_stress = \"SELECT municipality_code, normalised_stress, normalised_rent FROM `prello-cna.dbt_nicglaus.clean_rent_stress`\"\n",
        "data_rent = pd.read_gbq(query_rent_stress, project_id=\"prello-cna\")\n",
        "\n",
        "# touristic establishments\n",
        "query_tourist_esta = \"SELECT municipality_code, poi_norm FROM `prello-cna.dbt_chloe_prello.cleaned_tourist_establishments`\"\n",
        "data_tourist_esta = pd.read_gbq(query_tourist_esta, project_id=\"prello-cna\")\n",
        "\n",
        "# touristic sites\n",
        "query_tourist_sites = \"SELECT municipality_code, poi_norm FROM `prello-cna.dbt_chloe_prello.cleaned_tourist_establishments`\"\n",
        "data_tourist_sites = pd.read_gbq(query_tourist_sites, project_id=\"prello-cna\")\n",
        "\n",
        "# crime\n",
        "query_crime = \"SELECT dpt_num, _2021_norm_crime_rate FROM `prello-cna.dbt_nicglaus.clean_crime_2021`\"\n",
        "data_crime = pd.read_gbq(query_crime, project_id=\"prello-cna\")\n",
        "\n",
        "# GDP per capita\n",
        "query_gdp = \"SELECT num_dep, pib_growth_norm, pib_2020_norm FROM `prello-cna.dbt_nicglaus.clean_pib_capita`\"\n",
        "data_gdp = pd.read_gbq(query_gdp, project_id=\"prello-cna\")\n",
        "\n",
        "# unemployment\n",
        "query_unemployment = \"SELECT departement_code, normalized_number FROM `prello-cna.dbt_nicglaus.clean_unemployment`\"\n",
        "data_unemployment = pd.read_gbq(query_unemployment, project_id=\"prello-cna\")\n",
        "\n",
        "\n",
        "\n"
      ],
      "metadata": {
        "id": "HJXbi6Y4Ua8V"
      },
      "execution_count": 9,
      "outputs": []
    },
    {
      "cell_type": "code",
      "source": [
        "\n",
        "# Merge the DataFrames based on a common key (city_id)\n",
        "merged_data = pd.merge(city_data, gdp_data, on='city_id', how='inner')\n",
        "merged_data = pd.merge(merged_data, criminality_data, on='city_id', how='inner')\n",
        "merged_data = pd.merge(merged_data, real_estate_data, on='city_id', how='inner')\n",
        "\n",
        "# Define your weightings\n",
        "weight_gdp = 0.3\n",
        "weight_criminality = 0.4\n",
        "weight_real_estate = 0.3\n",
        "\n",
        "# Calculate the score based on your algorithm\n",
        "merged_data['score'] = (\n",
        "    (merged_data['gdp_growth'] * weight_gdp) +\n",
        "    (merged_data['criminality_rate'] * weight_criminality) +\n",
        "    (merged_data['real_estate_index'] * weight_real_estate)\n",
        ")\n",
        "\n",
        "# Rank cities based on scores\n",
        "ranked_cities = merged_data.sort_values(by='score', ascending=False)\n",
        "\n",
        "# Optional: Visualize the results using libraries like Matplotlib or Seaborn\n",
        "import matplotlib.pyplot as plt\n",
        "\n",
        "plt.bar(ranked_cities['city_name'], ranked_cities['score'])\n",
        "plt.xticks(rotation=90)\n",
        "plt.xlabel('City')\n",
        "plt.ylabel('Score')\n",
        "plt.title('City Rankings')\n",
        "plt.show()\n"
      ],
      "metadata": {
        "id": "U9nxTyyBVfn3"
      },
      "execution_count": null,
      "outputs": []
    }
  ]
}